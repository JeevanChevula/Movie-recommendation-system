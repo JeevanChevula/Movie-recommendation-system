{
  "nbformat": 4,
  "nbformat_minor": 0,
  "metadata": {
    "colab": {
      "provenance": [],
      "gpuType": "T4",
      "mount_file_id": "1o7k6EEiRu-Or-NCtCJdbHwfH0HIEMduP",
      "authorship_tag": "ABX9TyMP/MRukmPG5skGQ/OLeFTV",
      "include_colab_link": true
    },
    "kernelspec": {
      "name": "python3",
      "display_name": "Python 3"
    },
    "language_info": {
      "name": "python"
    },
    "accelerator": "GPU"
  },
  "cells": [
    {
      "cell_type": "markdown",
      "metadata": {
        "id": "view-in-github",
        "colab_type": "text"
      },
      "source": [
        "<a href=\"https://colab.research.google.com/github/JeevanChevula/Movie-recommendation-system/blob/main/movie_recommendation_system.ipynb\" target=\"_parent\"><img src=\"https://colab.research.google.com/assets/colab-badge.svg\" alt=\"Open In Colab\"/></a>"
      ]
    },
    {
      "cell_type": "code",
      "execution_count": null,
      "metadata": {
        "colab": {
          "base_uri": "https://localhost:8080/"
        },
        "id": "tPwt-qWVesZq",
        "outputId": "2a07b537-7418-4f97-ea9c-cb01d66dba4c",
        "collapsed": true
      },
      "outputs": [
        {
          "output_type": "stream",
          "name": "stdout",
          "text": [
            "<class 'pandas.core.frame.DataFrame'>\n",
            "RangeIndex: 1400 entries, 0 to 1399\n",
            "Data columns (total 9 columns):\n",
            " #   Column         Non-Null Count  Dtype  \n",
            "---  ------         --------------  -----  \n",
            " 0   MovieId        1400 non-null   int64  \n",
            " 1   Movie          1400 non-null   object \n",
            " 2   Year           1352 non-null   float64\n",
            " 3   Certificate    951 non-null    object \n",
            " 4   Genre          1389 non-null   object \n",
            " 5   Overview       1221 non-null   object \n",
            " 6   Runtime        1400 non-null   int64  \n",
            " 7   Rating         1400 non-null   float64\n",
            " 8   No.of.Ratings  1400 non-null   int64  \n",
            "dtypes: float64(2), int64(3), object(4)\n",
            "memory usage: 98.6+ KB\n"
          ]
        }
      ],
      "source": [
        "import pandas as pd\n",
        "data_path = pd.read_csv(\"/content/drive/MyDrive/Colab Notebooks/Datasets/TeluguMovies_dataset.csv\")\n",
        "data_path.head(10)\n",
        "data_path.info()\n"
      ]
    },
    {
      "cell_type": "code",
      "source": [
        "data= data_path.dropna(subset=[\"Genre\"])\n",
        "data.info()"
      ],
      "metadata": {
        "colab": {
          "base_uri": "https://localhost:8080/"
        },
        "collapsed": true,
        "id": "F5gz5iHXNF-j",
        "outputId": "d40f8d2f-d16d-4a2f-d7f7-0485ab63c0db"
      },
      "execution_count": null,
      "outputs": [
        {
          "output_type": "stream",
          "name": "stdout",
          "text": [
            "<class 'pandas.core.frame.DataFrame'>\n",
            "Index: 1389 entries, 0 to 1399\n",
            "Data columns (total 9 columns):\n",
            " #   Column         Non-Null Count  Dtype  \n",
            "---  ------         --------------  -----  \n",
            " 0   MovieId        1389 non-null   int64  \n",
            " 1   Movie          1389 non-null   object \n",
            " 2   Year           1342 non-null   float64\n",
            " 3   Certificate    949 non-null    object \n",
            " 4   Genre          1389 non-null   object \n",
            " 5   Overview       1219 non-null   object \n",
            " 6   Runtime        1389 non-null   int64  \n",
            " 7   Rating         1389 non-null   float64\n",
            " 8   No.of.Ratings  1389 non-null   int64  \n",
            "dtypes: float64(2), int64(3), object(4)\n",
            "memory usage: 108.5+ KB\n"
          ]
        }
      ]
    },
    {
      "cell_type": "code",
      "source": [
        "from sklearn.feature_extraction.text import TfidfVectorizer\n",
        "from sklearn.metrics.pairwise import cosine_similarity\n",
        "\n",
        "# Preprocess the movie data\n",
        "data[\"Genre\"] = data[\"Genre\"].str.replace('|',' ')\n",
        "\n",
        "#Use TfidfVectorizer to convert the genres into a numerical feature\n",
        "tfidf = TfidfVectorizer(stop_words=\"english\")\n",
        "\n",
        "tfidf_matrix = tfidf.fit_transform(data[\"Genre\"])\n",
        "\n",
        "#Calculate cosine similarity between movies based on their genres\n",
        "similarity_matrix = cosine_similarity(tfidf_matrix,tfidf_matrix)"
      ],
      "metadata": {
        "colab": {
          "base_uri": "https://localhost:8080/"
        },
        "id": "Tu-HLL6n8I_d",
        "outputId": "631d8ea9-3161-4fff-d618-4ed89fab8ee1"
      },
      "execution_count": null,
      "outputs": [
        {
          "output_type": "stream",
          "name": "stderr",
          "text": [
            "<ipython-input-3-36c4798c1ed3>:5: SettingWithCopyWarning: \n",
            "A value is trying to be set on a copy of a slice from a DataFrame.\n",
            "Try using .loc[row_indexer,col_indexer] = value instead\n",
            "\n",
            "See the caveats in the documentation: https://pandas.pydata.org/pandas-docs/stable/user_guide/indexing.html#returning-a-view-versus-a-copy\n",
            "  data[\"Genre\"] = data[\"Genre\"].str.replace('|',' ')\n"
          ]
        }
      ]
    },
    {
      "cell_type": "code",
      "source": [
        "def recommend_movies(movie_name, data, similarity_matrix):\n",
        "    if movie_name not in data['Movie'].values:\n",
        "        return f\"Movie '{movie_name}' not found in the dataset.Please search for other movies\"\n",
        "    # Find the index of the given movie\n",
        "    idx = data[data['Movie'] == movie_name].index[0]\n",
        "\n",
        "    # Get similarity scores for the given movie\n",
        "    sim_scores = list(enumerate(similarity_matrix[idx]))\n",
        "\n",
        "    # Sort the movies based on similarity score (in descending order)\n",
        "    sim_scores = sorted(sim_scores, key=lambda x: x[1], reverse=True)\n",
        "\n",
        "    # Get the top 5 similar movies (excluding the movie itself)\n",
        "    top_movies = [data.iloc[i[0]]['Movie'] for i in sim_scores if data.iloc[i[0]]['Movie'] != movie_name][:11]\n",
        "    return top_movies\n",
        "\n",
        "movie_name = \"Jalsa\"\n",
        "recommended_movies = recommend_movies(movie_name, data, similarity_matrix)\n",
        "print(f\"Movies similar to {movie_name}: {recommended_movies}\")\n"
      ],
      "metadata": {
        "colab": {
          "base_uri": "https://localhost:8080/"
        },
        "id": "ECPEFIcg8Ygn",
        "outputId": "5334147b-1aa1-4b39-d0db-65d87f1ac8ab"
      },
      "execution_count": null,
      "outputs": [
        {
          "output_type": "stream",
          "name": "stdout",
          "text": [
            "Movies similar to Jalsa: ['Dookudu', 'Dabangg 3', 'Race Gurram', 'Gabbar Singh', 'Arya 2', 'Julayi', 'Baadshah', 'Kick', 'Aagadu', 'Duvvada Jagannadham', 'Sardaar Gabbar Singh']\n"
          ]
        }
      ]
    }
  ]
}